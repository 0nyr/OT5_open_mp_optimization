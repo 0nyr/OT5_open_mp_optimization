{
 "cells": [
  {
   "cell_type": "markdown",
   "metadata": {},
   "source": [
    "# TP OpenMP - October 2022\n",
    "## Part 1 : Pi\n",
    "### Compilation"
   ]
  },
  {
   "cell_type": "code",
   "execution_count": null,
   "metadata": {},
   "outputs": [],
   "source": [
    "# specify number of threads\n",
    "#!export OMP NUM THREADS=2 ; ./prog"
   ]
  },
  {
   "cell_type": "code",
   "execution_count": 26,
   "metadata": {},
   "outputs": [],
   "source": [
    "!g++ -o bin/tp_openmp_part_1_pi_critical tp_openmp_part_1_pi_critical.cpp -fopenmp -O3 -march=native"
   ]
  },
  {
   "cell_type": "code",
   "execution_count": 2,
   "metadata": {},
   "outputs": [
    {
     "name": "stdout",
     "output_type": "stream",
     "text": [
      "\u001b[01m\u001b[Kg++:\u001b[m\u001b[K \u001b[01;31m\u001b[Kerror: \u001b[m\u001b[Ktp_openmp_part_1_pi_impl_reduce.cpp: Aucun fichier ou dossier de ce type\n",
      "\u001b[01m\u001b[Kg++:\u001b[m\u001b[K \u001b[01;31m\u001b[Kfatal error: \u001b[m\u001b[Kno input files\n",
      "compilation terminated.\n",
      "\u001b[01m\u001b[Kg++:\u001b[m\u001b[K \u001b[01;31m\u001b[Kerror: \u001b[m\u001b[Ktp_openmp_part_1_pi_impl_atomic.cpp: Aucun fichier ou dossier de ce type\n",
      "\u001b[01m\u001b[Kg++:\u001b[m\u001b[K \u001b[01;31m\u001b[Kfatal error: \u001b[m\u001b[Kno input files\n",
      "compilation terminated.\n"
     ]
    }
   ],
   "source": [
    "!g++ -o tp_openmp_part_1_pi_impl_reduce tp_openmp_part_1_pi_impl_reduce.cpp -fopenmp -O3 -march=native\n",
    "!g++ -o tp_openmp_part_1_pi_impl_atomic tp_openmp_part_1_pi_impl_atomic.cpp -fopenmp -O3 -march=native"
   ]
  },
  {
   "cell_type": "markdown",
   "metadata": {},
   "source": [
    "### Performance evaluation"
   ]
  },
  {
   "cell_type": "code",
   "execution_count": 27,
   "metadata": {},
   "outputs": [],
   "source": [
    "# global vars\n",
    "csv_result_file = \"stats.csv\"\n",
    "csv_headers = {\n",
    "    'version': str,\n",
    "    'nb_threads': int,\n",
    "    'num_steps' : int,\n",
    "    'runtime' : float\n",
    "}\n",
    "color_num_steps = {\n",
    "    100000 : \"blue\", \n",
    "    10000000 : \"red\", \n",
    "    1000000000 : \"green\",}\n",
    "    #100000000000 : \"black\"}\n",
    "num_steps = [list(color_num_steps.keys())[0]]\n",
    "nb_threads = [1, 2, 4, 8]\n",
    "repeats = range(0,10)"
   ]
  },
  {
   "cell_type": "code",
   "execution_count": 28,
   "metadata": {},
   "outputs": [],
   "source": [
    "import os\n",
    "import subprocess\n",
    "\n",
    "try:\n",
    "    os.remove(csv_result_file)\n",
    "except OSError:\n",
    "    pass\n",
    "\n",
    "# create csv file\n",
    "f = open(csv_result_file, \"w\")\n",
    "f.write(\",\".join(csv_headers.keys()) + \"\\n\")\n",
    "f.close()\n",
    "\n",
    "# exec\n",
    "for nsteps in num_steps:\n",
    "    for nb_thread in nb_threads:\n",
    "        for repeat in repeats:\n",
    "            args = (\"./bin/tp_openmp_part_1_pi_critical\", \"-T\", str(nb_thread), \"-N\", str(nsteps))\n",
    "            popen = subprocess.Popen(args, stdout=subprocess.PIPE)\n",
    "            popen.wait()\n",
    "            \n",
    "            # args = (\"./bin/tp_openmp_part_1_pi_impl_reduce\", \"-T\", str(nb_thread), \"-N\", str(nsteps))\n",
    "            # popen = subprocess.Popen(args, stdout=subprocess.PIPE)\n",
    "            # popen.wait()\n",
    "\n",
    "            # args = (\"./bin/tp_openmp_part_1_pi_impl_atomic\", \"-T\", str(nb_thread), \"-N\", str(nsteps))\n",
    "            # popen = subprocess.Popen(args, stdout=subprocess.PIPE)\n",
    "            # popen.wait()\n",
    "\n"
   ]
  },
  {
   "cell_type": "markdown",
   "metadata": {},
   "source": [
    "### Performance analysis\n",
    "#### Weak scaling"
   ]
  },
  {
   "cell_type": "code",
   "execution_count": 62,
   "metadata": {},
   "outputs": [
    {
     "data": {
      "text/html": [
       "<div>\n",
       "<style scoped>\n",
       "    .dataframe tbody tr th:only-of-type {\n",
       "        vertical-align: middle;\n",
       "    }\n",
       "\n",
       "    .dataframe tbody tr th {\n",
       "        vertical-align: top;\n",
       "    }\n",
       "\n",
       "    .dataframe thead th {\n",
       "        text-align: right;\n",
       "    }\n",
       "</style>\n",
       "<table border=\"1\" class=\"dataframe\">\n",
       "  <thead>\n",
       "    <tr style=\"text-align: right;\">\n",
       "      <th></th>\n",
       "      <th>version</th>\n",
       "      <th>nb_threads</th>\n",
       "      <th>num_steps</th>\n",
       "      <th>runtime</th>\n",
       "    </tr>\n",
       "  </thead>\n",
       "  <tbody>\n",
       "    <tr>\n",
       "      <th>0</th>\n",
       "      <td>critical</td>\n",
       "      <td>1</td>\n",
       "      <td>100000</td>\n",
       "      <td>0.001357</td>\n",
       "    </tr>\n",
       "    <tr>\n",
       "      <th>1</th>\n",
       "      <td>critical</td>\n",
       "      <td>1</td>\n",
       "      <td>100000</td>\n",
       "      <td>0.001175</td>\n",
       "    </tr>\n",
       "    <tr>\n",
       "      <th>2</th>\n",
       "      <td>critical</td>\n",
       "      <td>1</td>\n",
       "      <td>100000</td>\n",
       "      <td>0.001178</td>\n",
       "    </tr>\n",
       "    <tr>\n",
       "      <th>3</th>\n",
       "      <td>critical</td>\n",
       "      <td>1</td>\n",
       "      <td>100000</td>\n",
       "      <td>0.001174</td>\n",
       "    </tr>\n",
       "    <tr>\n",
       "      <th>4</th>\n",
       "      <td>critical</td>\n",
       "      <td>1</td>\n",
       "      <td>100000</td>\n",
       "      <td>0.001174</td>\n",
       "    </tr>\n",
       "    <tr>\n",
       "      <th>5</th>\n",
       "      <td>critical</td>\n",
       "      <td>1</td>\n",
       "      <td>100000</td>\n",
       "      <td>0.001225</td>\n",
       "    </tr>\n",
       "    <tr>\n",
       "      <th>6</th>\n",
       "      <td>critical</td>\n",
       "      <td>1</td>\n",
       "      <td>100000</td>\n",
       "      <td>0.001189</td>\n",
       "    </tr>\n",
       "    <tr>\n",
       "      <th>7</th>\n",
       "      <td>critical</td>\n",
       "      <td>1</td>\n",
       "      <td>100000</td>\n",
       "      <td>0.001174</td>\n",
       "    </tr>\n",
       "    <tr>\n",
       "      <th>8</th>\n",
       "      <td>critical</td>\n",
       "      <td>1</td>\n",
       "      <td>100000</td>\n",
       "      <td>0.001175</td>\n",
       "    </tr>\n",
       "    <tr>\n",
       "      <th>9</th>\n",
       "      <td>critical</td>\n",
       "      <td>1</td>\n",
       "      <td>100000</td>\n",
       "      <td>0.001213</td>\n",
       "    </tr>\n",
       "  </tbody>\n",
       "</table>\n",
       "</div>"
      ],
      "text/plain": [
       "    version  nb_threads  num_steps   runtime\n",
       "0  critical           1     100000  0.001357\n",
       "1  critical           1     100000  0.001175\n",
       "2  critical           1     100000  0.001178\n",
       "3  critical           1     100000  0.001174\n",
       "4  critical           1     100000  0.001174\n",
       "5  critical           1     100000  0.001225\n",
       "6  critical           1     100000  0.001189\n",
       "7  critical           1     100000  0.001174\n",
       "8  critical           1     100000  0.001175\n",
       "9  critical           1     100000  0.001213"
      ]
     },
     "metadata": {},
     "output_type": "display_data"
    },
    {
     "data": {
      "text/html": [
       "<div>\n",
       "<style scoped>\n",
       "    .dataframe tbody tr th:only-of-type {\n",
       "        vertical-align: middle;\n",
       "    }\n",
       "\n",
       "    .dataframe tbody tr th {\n",
       "        vertical-align: top;\n",
       "    }\n",
       "\n",
       "    .dataframe thead th {\n",
       "        text-align: right;\n",
       "    }\n",
       "</style>\n",
       "<table border=\"1\" class=\"dataframe\">\n",
       "  <thead>\n",
       "    <tr style=\"text-align: right;\">\n",
       "      <th></th>\n",
       "      <th>num_steps</th>\n",
       "      <th>version</th>\n",
       "      <th>nb_threads</th>\n",
       "      <th>runtime</th>\n",
       "    </tr>\n",
       "  </thead>\n",
       "  <tbody>\n",
       "    <tr>\n",
       "      <th>0</th>\n",
       "      <td>100000</td>\n",
       "      <td>critical</td>\n",
       "      <td>1</td>\n",
       "      <td>0.001203</td>\n",
       "    </tr>\n",
       "    <tr>\n",
       "      <th>1</th>\n",
       "      <td>100000</td>\n",
       "      <td>critical</td>\n",
       "      <td>2</td>\n",
       "      <td>0.002890</td>\n",
       "    </tr>\n",
       "    <tr>\n",
       "      <th>2</th>\n",
       "      <td>100000</td>\n",
       "      <td>critical</td>\n",
       "      <td>4</td>\n",
       "      <td>0.007402</td>\n",
       "    </tr>\n",
       "    <tr>\n",
       "      <th>3</th>\n",
       "      <td>100000</td>\n",
       "      <td>critical</td>\n",
       "      <td>8</td>\n",
       "      <td>0.010887</td>\n",
       "    </tr>\n",
       "  </tbody>\n",
       "</table>\n",
       "</div>"
      ],
      "text/plain": [
       "   num_steps   version  nb_threads   runtime\n",
       "0     100000  critical           1  0.001203\n",
       "1     100000  critical           2  0.002890\n",
       "2     100000  critical           4  0.007402\n",
       "3     100000  critical           8  0.010887"
      ]
     },
     "metadata": {},
     "output_type": "display_data"
    },
    {
     "name": "stderr",
     "output_type": "stream",
     "text": [
      "No handles with labels found to put in legend.\n"
     ]
    },
    {
     "data": {
      "image/png": "[encoded data removed]",
      "text/plain": [
       "<Figure size 1296x1152 with 4 Axes>"
      ]
     },
     "metadata": {
      "needs_background": "light"
     },
     "output_type": "display_data"
    }
   ],
   "source": [
    "import matplotlib.pyplot as plt\n",
    "import numpy as np\n",
    "from IPython.display import display\n",
    "from numpy import genfromtxt\n",
    "import itertools\n",
    "import pandas as pd\n",
    "\n",
    "import warnings\n",
    "warnings.filterwarnings('ignore')\n",
    "\n",
    "\n",
    "\n",
    "df = pd.read_csv(csv_result_file,\n",
    "    header=0 # line of header\n",
    "    ,dtype=csv_headers)\n",
    "display(df.head(10))\n",
    "\n",
    "# display graphs\n",
    "fig, axes = plt.subplots(2, 2, figsize=(18,16))\n",
    "fig.suptitle(\"Graphs of PI computing for different values of nb_threads\")\n",
    "\n",
    "nb_different_num_steps = len(df['num_steps'].unique())\n",
    "for i in range(nb_different_num_steps):\n",
    "    df_plot = df[(df['num_steps'] == int(num_steps))]\n",
    "    df_plot = df_plot[df_plot['version'] == \"atomic\"]\n",
    "    \n",
    "    mean_stats = df.groupby(['num_steps','version','nb_threads']).mean().reset_index()\n",
    "    display(mean_stats.head(10))\n",
    "    \n",
    "    axes[0][0].plot(mean_stats['nb_threads'], mean_stats['runtime'],linestyle=\"solid\",color=color_num_steps[num_steps])\n",
    "    axes[0][0].set(yscale=\"log\",xlabel=\"nb_threads\",ylabel=\"time (s)\",title=\"critical\")\n",
    "    #    plt.gca().legend((\"nb_threads\",\"runtime (s)\"))\n",
    "    axes[0][0].scatter(df_plot['nb_threads'], df_plot['runtime'],color=color_num_steps[num_steps])\n",
    "\n",
    "    # df_plot = df[(df['num_steps'] == num_steps) & (df['version'] == \"reduce\")]\n",
    "    # mean_stats = df_plot.groupby(['num_steps','version','nb_threads']).mean().reset_index()\n",
    "    \n",
    "    # plt.plot(mean_stats['nb_threads'], mean_stats['runtime'],linestyle=\"dashed\",color=color_num_steps[num_steps])\n",
    "    # plt.yscale('log')\n",
    "    # plt.xscale('log')\n",
    "    # plt.scatter(df_plot['nb_threads'], df_plot['runtime'],color=color_num_steps[num_steps])\n",
    "    \n",
    "plt.legend()\n",
    "plt.show()"
   ]
  },
  {
   "cell_type": "markdown",
   "metadata": {},
   "source": [
    "#### Strong Scaling"
   ]
  },
  {
   "cell_type": "code",
   "execution_count": null,
   "metadata": {},
   "outputs": [],
   "source": []
  },
  {
   "cell_type": "markdown",
   "metadata": {},
   "source": [
    "### Discussion"
   ]
  }
 ],
 "metadata": {
  "kernelspec": {
   "display_name": "Python 3.8.10 64-bit",
   "language": "python",
   "name": "python3"
  },
  "language_info": {
   "codemirror_mode": {
    "name": "ipython",
    "version": 3
   },
   "file_extension": ".py",
   "mimetype": "text/x-python",
   "name": "python",
   "nbconvert_exporter": "python",
   "pygments_lexer": "ipython3",
   "version": "3.7.3"
  },
  "orig_nbformat": 4,
  "vscode": {
   "interpreter": {
    "hash": "31f2aee4e71d21fbe5cf8b01ff0e069b9275f58929596ceb00d14d90e3e16cd6"
   }
  }
 },
 "nbformat": 4,
 "nbformat_minor": 2
}
